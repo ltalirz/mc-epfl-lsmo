{
 "cells": [
  {
   "cell_type": "markdown",
   "metadata": {},
   "source": [
    "# Detailed Report"
   ]
  },
  {
   "cell_type": "markdown",
   "metadata": {},
   "source": [
    "## Structure"
   ]
  },
  {
   "cell_type": "code",
   "execution_count": null,
   "metadata": {},
   "outputs": [],
   "source": [
    "from aiida import load_dbenv, is_dbenv_loaded\n",
    "from aiida.backends import settings\n",
    "if not is_dbenv_loaded():\n",
    "    load_dbenv(profile=settings.AIIDADB_PROFILE)\n",
    "\n",
    "from aiida.orm import load_node\n",
    "import urlparse\n",
    "\n",
    "import ipywidgets as ipw\n",
    "from IPython.display import display, clear_output\n",
    "\n",
    "import nglview"
   ]
  },
  {
   "cell_type": "code",
   "execution_count": null,
   "metadata": {},
   "outputs": [],
   "source": [
    "url = urlparse.urlsplit(jupyter_notebook_url)\n",
    "uuid = urlparse.parse_qs(url.query)['uuid'][0]\n",
    "workcalc = load_node(uuid=str(uuid))"
   ]
  },
  {
   "cell_type": "code",
   "execution_count": null,
   "metadata": {},
   "outputs": [],
   "source": [
    "viewer = nglview.NGLWidget()\n",
    "clear_output()"
   ]
  },
  {
   "cell_type": "code",
   "execution_count": null,
   "metadata": {},
   "outputs": [],
   "source": [
    "def refresh_structure_view():\n",
    "    global viewer, structure\n",
    "    if hasattr(viewer, \"component_0\"):\n",
    "        #viewer.clear_representations()\n",
    "        viewer.component_0.remove_ball_and_stick()\n",
    "        viewer.component_0.remove_ball_and_stick()\n",
    "        viewer.component_0.remove_ball_and_stick()\n",
    "        viewer.component_0.remove_unitcell()\n",
    "        cid = viewer.component_0.id\n",
    "        viewer.remove_component(cid)\n",
    "    viewer.add_component(nglview.ASEStructure(structure.get_ase())) # adds ball+stick\n",
    "    viewer.add_unitcell()\n",
    "    viewer.center_view()"
   ]
  },
  {
   "cell_type": "code",
   "execution_count": null,
   "metadata": {},
   "outputs": [],
   "source": [
    "structure = workcalc.inp.structure\n",
    "refresh_structure_view()"
   ]
  },
  {
   "cell_type": "code",
   "execution_count": null,
   "metadata": {},
   "outputs": [],
   "source": [
    "display(ipw.VBox([viewer]))"
   ]
  },
  {
   "cell_type": "markdown",
   "metadata": {},
   "source": [
    "## Isotherm plot"
   ]
  },
  {
   "cell_type": "code",
   "execution_count": null,
   "metadata": {},
   "outputs": [],
   "source": [
    "def plot_bokeh(x, y, ids, title=None, xlabel=None, ylabel=None, clr_label=None, with_links=False):\n",
    "    import bokeh.plotting as bpl\n",
    "    import bokeh.models as bmd\n",
    "    from bokeh.palettes import Viridis256\n",
    "    import matplotlib as mpl\n",
    "    from bokeh.io import output_notebook, show\n",
    "    from bokeh.models import HoverTool\n",
    "    output_notebook(hide_banner=True)\n",
    "    \n",
    "    rest_url = './show.ipynb'\n",
    "\n",
    "    #cmap = bmd.LinearColorMapper(palette=Viridis256, low=min(colors), high=max(colors))\n",
    "    #cbar = bmd.ColorBar(color_mapper=cmap, title=clr_label, location=(0, 0))\n",
    "    \n",
    "    hover = HoverTool(tooltips=[\n",
    "        (\"calc id\", \"@id\"),\n",
    "    ])\n",
    "    \n",
    "    fig = bpl.figure(\n",
    "        toolbar_location=None,\n",
    "        title=title,\n",
    "        x_axis_label=xlabel,\n",
    "        y_axis_label=ylabel,\n",
    "        tools=['tap', 'zoom_in', 'zoom_out', 'pan', hover], \n",
    "        output_backend='webgl',\n",
    "    )\n",
    "    source = bmd.ColumnDataSource(data=dict(x=x, y=y, id=ids))\n",
    "    \n",
    "    fig.line('x', 'y', source=source)\n",
    "    fig.circle('x', 'y', size=10, fill_color=\"white\", source=source)\n",
    "    #fig.scatter(x, y, radius=2.0, fill_color=colors, fill_alpha=0.6, line_color=None)\n",
    "    #fig.add_layout(cbar, 'right')\n",
    "        \n",
    "    show(fig)"
   ]
  },
  {
   "cell_type": "code",
   "execution_count": null,
   "metadata": {},
   "outputs": [],
   "source": [
    "isotherm = sorted(\n",
    "    [\n",
    "        (e['pressure'], e['loading'], e['calc_id']) \n",
    "        for e in workcalc.get_extra('isotherm')\n",
    "    ],\n",
    "    key=lambda x: x[0])"
   ]
  },
  {
   "cell_type": "code",
   "execution_count": null,
   "metadata": {},
   "outputs": [],
   "source": [
    "p_units = workcalc.get_extra(\"pressure_units\")\n",
    "load_units = workcalc.get_extra(\"loading_units\")"
   ]
  },
  {
   "cell_type": "code",
   "execution_count": null,
   "metadata": {},
   "outputs": [],
   "source": [
    "p, load, calc_ids = zip(*isotherm)"
   ]
  },
  {
   "cell_type": "code",
   "execution_count": null,
   "metadata": {},
   "outputs": [],
   "source": [
    "plot_bokeh(p, load, calc_ids,\n",
    "           xlabel=\"Pressure [{}]\".format(p_units),\n",
    "           ylabel=\"Metane loading [{}]\".format(load_units)\n",
    "          )"
   ]
  },
  {
   "cell_type": "markdown",
   "metadata": {},
   "source": [
    "## Computed properties"
   ]
  },
  {
   "cell_type": "code",
   "execution_count": null,
   "metadata": {},
   "outputs": [],
   "source": [
    "def show_properties(workcalc):\n",
    "    prop_list = [\n",
    "        'density',\n",
    "        'pore_accesible_volume',\n",
    "        'unitcell_volume',\n",
    "        'largest_free_sphere',\n",
    "        'largest_included_free_sphere',\n",
    "        'largest_included_sphere',\n",
    "        'accessible_surface_area',\n",
    "        'not_accessible_surface_area',\n",
    "        'channel_surface_area',\n",
    "        'deliverable_capacity',\n",
    "        'henry_coefficient',\n",
    "    ]\n",
    "\n",
    "    # html table header\n",
    "    html  = '<style>#aiida_results td,th {padding: 2px; min-width: 200px}</style>' \n",
    "    html += '<table border=1 id=\"aiida_results\" style=\"margin:10px;\"><tr>'\n",
    "    html += '<th>Property</th>'\n",
    "    html += '<th>Value</th>'\n",
    "    html += '<th>Units</th>'\n",
    "    html += '</tr>'\n",
    "\n",
    "    for prop in prop_list:\n",
    "        html += '<tr>'\n",
    "        html += '<td>%s</td>' % prop.replace('_', ' ').title()\n",
    "        html += '<td>%s</td>' % workcalc.get_extra(prop)\n",
    "        html += '<td>%s</td>' % workcalc.get_extra(prop+'_units')\n",
    "        html += '</td>'\n",
    "        html += '</tr>'\n",
    "\n",
    "    html += '</table>'\n",
    "\n",
    "    results.value = html"
   ]
  },
  {
   "cell_type": "code",
   "execution_count": null,
   "metadata": {},
   "outputs": [],
   "source": [
    "results = ipw.HTML()\n",
    "show_properties(workcalc)\n",
    "display(results)"
   ]
  }
 ],
 "metadata": {
  "kernelspec": {
   "display_name": "Python 2",
   "language": "python",
   "name": "python2"
  },
  "language_info": {
   "codemirror_mode": {
    "name": "ipython",
    "version": 2
   },
   "file_extension": ".py",
   "mimetype": "text/x-python",
   "name": "python",
   "nbconvert_exporter": "python",
   "pygments_lexer": "ipython2",
   "version": "2.7.14"
  }
 },
 "nbformat": 4,
 "nbformat_minor": 2
}
